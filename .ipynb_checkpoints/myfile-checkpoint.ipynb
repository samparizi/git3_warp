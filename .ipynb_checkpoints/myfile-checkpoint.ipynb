{
 "cells": [
  {
   "cell_type": "code",
   "execution_count": 145,
   "metadata": {},
   "outputs": [],
   "source": [
    "import h5py\n",
    "import matplotlib.pyplot as plt\n",
    "import numpy as np\n",
    "import pandas as pd"
   ]
  },
  {
   "cell_type": "code",
   "execution_count": 146,
   "metadata": {},
   "outputs": [
    {
     "name": "stdout",
     "output_type": "stream",
     "text": [
      "(64, 64, 100)\n",
      "(64, 64, 100) \n",
      "\n",
      "\n",
      "[[nan nan nan ... nan nan nan]\n",
      " [80. 80. 80. ... 80. 80. 80.]\n",
      " [80. 80. 80. ... 80. 80. 80.]\n",
      " ...\n",
      " [80. 80. 80. ... 80. 80. 80.]\n",
      " [80. 80. 80. ... 80. 80. 80.]\n",
      " [nan nan nan ... nan nan nan]]\n"
     ]
    }
   ],
   "source": [
    "hf = h5py.File('/Users/mostafa/Dropbox/progs/datas/myfile.h5', 'r')\n",
    "hf0 = hf['DS3'][:]\n",
    "print(hf0.shape)\n",
    "\n",
    "print(hf0.shape, '\\n\\n')\n",
    "print(hf0[0])"
   ]
  },
  {
   "cell_type": "code",
   "execution_count": 150,
   "metadata": {},
   "outputs": [
    {
     "name": "stdout",
     "output_type": "stream",
     "text": [
      "(64, 64, 100)\n",
      "(4096, 100)\n",
      "0.6940833684172376\n",
      "1.0\n",
      "0.0\n",
      "(64, 64, 100)\n",
      "[[0.6942489  0.69417495 0.694135   ... 0.69404885 0.69404896 0.69404906]\n",
      " [0.6942563  0.6941827  0.69414286 ... 0.69404992 0.69405003 0.69405013]\n",
      " [0.69426034 0.69418582 0.69414499 ... 0.69404966 0.69404976 0.69404986]\n",
      " ...\n",
      " [0.694261   0.69418591 0.6941447  ... 0.69405009 0.69405019 0.69405029]\n",
      " [0.69425402 0.69418051 0.69414095 ... 0.6940494  0.6940495  0.69404961]\n",
      " [0.69424626 0.69417183 0.69413171 ... 0.69404845 0.69404855 0.69404867]]\n"
     ]
    }
   ],
   "source": [
    "hf0 = np.array(hf0).astype('float')\n",
    "\n",
    "df_shape = hf0.shape\n",
    "    \n",
    "print(hf0.shape)\n",
    "hf0 = hf0.reshape(df_shape[0]*df_shape[1], df_shape[2])\n",
    "#     print(hf0[0])\n",
    "\n",
    "hf0 = pd.DataFrame(hf0)\n",
    "print(hf0.shape)\n",
    "hf_mean = hf0.mean()\n",
    "hf_mean = hf_mean[:].mean()\n",
    "print(hf_mean)\n",
    "\n",
    "hf_max = hf0.max()\n",
    "hf_max = hf_max[:].max()\n",
    "print(hf_max)\n",
    "\n",
    "hf_min = hf0.min()\n",
    "hf_min = hf_min[:].min()\n",
    "print(hf_min)\n",
    "\n",
    "#     hf0 = hf0.fillna(method='ffill', axis=1)\n",
    "#     hf0 = hf0.fillna(method='ffill', axis=0)\n",
    "hf0 = hf0.fillna(hf_mean)\n",
    "\n",
    "\n",
    "hf0 = (hf0 - hf_min) / (hf_max - hf_min)\n",
    "\n",
    "hf0 = hf0.to_numpy().reshape(*df_shape)\n",
    "\n",
    "print(hf0.shape)\n",
    "print(hf0[1])"
   ]
  },
  {
   "cell_type": "code",
   "execution_count": 149,
   "metadata": {},
   "outputs": [
    {
     "data": {
      "text/plain": [
       "<matplotlib.contour.QuadContourSet at 0x11eca10f0>"
      ]
     },
     "execution_count": 149,
     "metadata": {},
     "output_type": "execute_result"
    },
    {
     "data": {
      "image/png": "[encoded data removed]",
      "text/plain": [
       "<Figure size 432x288 with 1 Axes>"
      ]
     },
     "metadata": {
      "needs_background": "light"
     },
     "output_type": "display_data"
    }
   ],
   "source": [
    "x=np.linspace(1,64, 64)\n",
    "y=np.linspace(1,64, 64)\n",
    "X, Y = np.meshgrid(x, y)\n",
    "\n",
    "data = hf0[:,:,99]\n",
    "\n",
    "plt.contourf(Y, X, data)"
   ]
  },
  {
   "cell_type": "code",
   "execution_count": null,
   "metadata": {},
   "outputs": [],
   "source": []
  }
 ],
 "metadata": {
  "kernelspec": {
   "display_name": "Python (git3_warp_py36)",
   "language": "python",
   "name": "git3_warp_py36"
  },
  "language_info": {
   "codemirror_mode": {
    "name": "ipython",
    "version": 3
   },
   "file_extension": ".py",
   "mimetype": "text/x-python",
   "name": "python",
   "nbconvert_exporter": "python",
   "pygments_lexer": "ipython3",
   "version": "3.6.9"
  }
 },
 "nbformat": 4,
 "nbformat_minor": 2
}
