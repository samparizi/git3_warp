{
 "cells": [
  {
   "cell_type": "code",
   "execution_count": 4,
   "metadata": {},
   "outputs": [],
   "source": [
    "import h5py\n",
    "import matplotlib.pyplot as plt\n",
    "import numpy as np\n",
    "import pandas as pd\n",
    "\n",
    "\n",
    "import torch\n",
    "from netCDF4 import Dataset"
   ]
  },
  {
   "cell_type": "code",
   "execution_count": 5,
   "metadata": {},
   "outputs": [
    {
     "name": "stdout",
     "output_type": "stream",
     "text": [
      "th0 (324, 1, 64, 64)\n",
      "th0 (324, 1, 64, 64)\n",
      "th0 after squeeze torch.Size([324, 64, 64])\n"
     ]
    }
   ],
   "source": [
    "ncfile = '/Users/mostafa/Dropbox/progs/datas/nnx.nc'\n",
    "fh = Dataset(ncfile, mode='r')\n",
    "# th0 = fh.variables['thetao'][:]\n",
    "# th0 = fh.variables['thetao'][0,0,:,:]\n",
    "th0 = fh.variables['thetao'][:]\n",
    "print('th0', th0.shape)\n",
    "th0 = np.array(th0)\n",
    "print('th0', th0.shape)\n",
    "\n",
    "th0 = torch.Tensor(th0)\n",
    "th0 = torch.squeeze(th0)\n",
    "print('th0 after squeeze', th0.shape)\n"
   ]
  },
  {
   "cell_type": "code",
   "execution_count": 6,
   "metadata": {},
   "outputs": [],
   "source": [
    "# hf0 = np.array(hf0).astype('float')\n",
    "\n",
    "# hf0 = (hf0 - hf_min) / (hf_max - hf_min)\n",
    "\n",
    "# hf0 = hf0.to_numpy().reshape(*df_shape)\n",
    "\n",
    "# print(hf0.shape)\n",
    "# print(hf0[1])"
   ]
  },
  {
   "cell_type": "code",
   "execution_count": 9,
   "metadata": {},
   "outputs": [
    {
     "data": {
      "text/plain": [
       "<matplotlib.contour.QuadContourSet at 0x1206fda90>"
      ]
     },
     "execution_count": 9,
     "metadata": {},
     "output_type": "execute_result"
    },
    {
     "data": {
      "image/png": "[encoded data removed]",
      "text/plain": [
       "<Figure size 432x288 with 1 Axes>"
      ]
     },
     "metadata": {
      "needs_background": "light"
     },
     "output_type": "display_data"
    }
   ],
   "source": [
    "x=np.linspace(1,64, 64)\n",
    "y=np.linspace(1,64, 64)\n",
    "X, Y = np.meshgrid(x, y)\n",
    "\n",
    "data = th0[0,:,:]\n",
    "\n",
    "plt.contourf(Y, X, data)"
   ]
  },
  {
   "cell_type": "code",
   "execution_count": null,
   "metadata": {},
   "outputs": [],
   "source": []
  }
 ],
 "metadata": {
  "kernelspec": {
   "display_name": "Python (git3_warp_py36)",
   "language": "python",
   "name": "git3_warp_py36"
  },
  "language_info": {
   "codemirror_mode": {
    "name": "ipython",
    "version": 3
   },
   "file_extension": ".py",
   "mimetype": "text/x-python",
   "name": "python",
   "nbconvert_exporter": "python",
   "pygments_lexer": "ipython3",
   "version": "3.6.9"
  }
 },
 "nbformat": 4,
 "nbformat_minor": 2
}
