{
 "cells": [
  {
   "cell_type": "code",
   "execution_count": 19,
   "metadata": {},
   "outputs": [],
   "source": [
    "import h5py\n",
    "import matplotlib.pyplot as plt\n",
    "import numpy as np"
   ]
  },
  {
   "cell_type": "code",
   "execution_count": 34,
   "metadata": {},
   "outputs": [
    {
     "name": "stdout",
     "output_type": "stream",
     "text": [
      "(150, 20, 64, 64)\n",
      "(150, 64, 64) \n",
      "\n",
      "\n",
      "[[0.57 0.58 0.58 0.58 0.58 0.59 0.59 0.59 0.59 0.59 0.59 0.59 0.59 0.59\n",
      "  0.59 0.59 0.59 0.59 0.59 0.59 0.59 0.59 0.59 0.59]\n",
      " [0.57 0.58 0.58 0.58 0.58 0.58 0.59 0.59 0.59 0.59 0.59 0.59 0.59 0.59\n",
      "  0.59 0.59 0.59 0.59 0.59 0.59 0.59 0.59 0.59 0.59]\n",
      " [0.57 0.58 0.58 0.58 0.58 0.58 0.59 0.59 0.59 0.59 0.59 0.59 0.59 0.59\n",
      "  0.59 0.59 0.59 0.59 0.59 0.59 0.59 0.59 0.59 0.59]\n",
      " [0.57 0.58 0.58 0.58 0.58 0.58 0.58 0.59 0.59 0.59 0.59 0.59 0.59 0.59\n",
      "  0.59 0.59 0.59 0.59 0.59 0.59 0.59 0.59 0.59 0.59]\n",
      " [0.57 0.58 0.58 0.58 0.58 0.58 0.59 0.59 0.59 0.59 0.59 0.59 0.59 0.59\n",
      "  0.59 0.59 0.59 0.59 0.59 0.59 0.59 0.59 0.59 0.59]\n",
      " [0.58 0.58 0.58 0.58 0.58 0.59 0.59 0.59 0.59 0.59 0.59 0.59 0.59 0.59\n",
      "  0.59 0.59 0.59 0.59 0.59 0.59 0.59 0.59 0.59 0.59]\n",
      " [0.58 0.59 0.59 0.59 0.59 0.59 0.59 0.59 0.59 0.59 0.59 0.59 0.59 0.59\n",
      "  0.59 0.59 0.59 0.59 0.59 0.59 0.59 0.59 0.59 0.59]\n",
      " [0.59 0.59 0.59 0.59 0.59 0.59 0.59 0.59 0.59 0.59 0.59 0.59 0.59 0.59\n",
      "  0.59 0.59 0.59 0.59 0.59 0.59 0.59 0.59 0.59 0.59]\n",
      " [0.59 0.59 0.59 0.59 0.59 0.59 0.59 0.59 0.59 0.59 0.59 0.59 0.59 0.59\n",
      "  0.59 0.59 0.59 0.59 0.59 0.59 0.59 0.59 0.59 0.59]\n",
      " [0.6  0.59 0.59 0.59 0.59 0.59 0.59 0.59 0.59 0.59 0.59 0.59 0.59 0.59\n",
      "  0.59 0.59 0.59 0.59 0.59 0.59 0.59 0.59 0.59 0.59]\n",
      " [0.6  0.6  0.59 0.59 0.59 0.59 0.59 0.59 0.59 0.59 0.59 0.59 0.59 0.59\n",
      "  0.59 0.59 0.59 0.59 0.59 0.59 0.59 0.59 0.59 0.59]\n",
      " [0.6  0.6  0.59 0.59 0.59 0.59 0.59 0.59 0.59 0.59 0.59 0.59 0.59 0.59\n",
      "  0.59 0.59 0.59 0.59 0.59 0.59 0.59 0.59 0.59 0.59]\n",
      " [0.6  0.59 0.59 0.59 0.59 0.59 0.59 0.59 0.59 0.59 0.59 0.59 0.59 0.59\n",
      "  0.59 0.59 0.59 0.59 0.59 0.59 0.59 0.59 0.59 0.59]\n",
      " [0.59 0.59 0.59 0.59 0.59 0.59 0.59 0.59 0.59 0.59 0.59 0.59 0.59 0.59\n",
      "  0.59 0.59 0.59 0.59 0.59 0.59 0.59 0.59 0.59 0.59]\n",
      " [0.59 0.59 0.59 0.59 0.59 0.59 0.59 0.59 0.59 0.59 0.59 0.59 0.59 0.59\n",
      "  0.59 0.59 0.59 0.59 0.59 0.59 0.59 0.59 0.59 0.59]\n",
      " [0.58 0.58 0.58 0.58 0.58 0.58 0.58 0.58 0.59 0.59 0.59 0.59 0.59 0.59\n",
      "  0.59 0.59 0.59 0.59 0.59 0.59 0.59 0.59 0.59 0.59]\n",
      " [0.57 0.58 0.58 0.58 0.58 0.58 0.58 0.58 0.58 0.58 0.59 0.59 0.59 0.59\n",
      "  0.59 0.59 0.59 0.59 0.59 0.59 0.59 0.59 0.59 0.59]\n",
      " [0.57 0.58 0.58 0.58 0.58 0.58 0.58 0.58 0.58 0.58 0.58 0.59 0.59 0.59\n",
      "  0.59 0.59 0.59 0.59 0.59 0.59 0.59 0.59 0.59 0.59]\n",
      " [0.57 0.58 0.58 0.58 0.58 0.58 0.58 0.58 0.58 0.58 0.58 0.59 0.59 0.59\n",
      "  0.59 0.59 0.59 0.59 0.59 0.59 0.59 0.59 0.59 0.59]\n",
      " [0.58 0.58 0.58 0.58 0.58 0.58 0.58 0.58 0.58 0.58 0.58 0.58 0.59 0.59\n",
      "  0.59 0.59 0.59 0.59 0.59 0.59 0.59 0.59 0.59 0.59]\n",
      " [0.58 0.58 0.58 0.58 0.58 0.58 0.58 0.58 0.58 0.58 0.58 0.58 0.58 0.59\n",
      "  0.59 0.59 0.59 0.59 0.59 0.59 0.59 0.59 0.59 0.59]\n",
      " [0.58 0.58 0.58 0.58 0.58 0.58 0.58 0.58 0.58 0.58 0.58 0.58 0.58 0.59\n",
      "  0.59 0.59 0.59 0.59 0.59 0.59 0.59 0.59 0.59 0.59]\n",
      " [0.59 0.58 0.58 0.58 0.58 0.58 0.58 0.58 0.58 0.58 0.58 0.58 0.58 0.59\n",
      "  0.59 0.59 0.59 0.59 0.59 0.59 0.59 0.59 0.59 0.59]\n",
      " [0.59 0.59 0.58 0.58 0.58 0.58 0.58 0.58 0.58 0.58 0.58 0.58 0.59 0.59\n",
      "  0.59 0.59 0.59 0.59 0.59 0.59 0.59 0.59 0.59 0.59]]\n"
     ]
    }
   ],
   "source": [
    "hf = h5py.File('/Users/mostafa/Dropbox/progs/datas/P_train_pc.h5', 'r')\n",
    "data = hf['dataset'][:]\n",
    "print(data.shape)\n",
    "data= data[:,0,:,:]\n",
    "print(data.shape, '\\n\\n')\n",
    "# print('data', data[149, :,:])\n",
    "# print('%.2f' %data[1])\n",
    "print(np.around(data[149, 39:63,39:63], 2))"
   ]
  },
  {
   "cell_type": "code",
   "execution_count": 9,
   "metadata": {},
   "outputs": [
    {
     "data": {
      "text/plain": [
       "<matplotlib.contour.QuadContourSet at 0x12743b4e0>"
      ]
     },
     "execution_count": 9,
     "metadata": {},
     "output_type": "execute_result"
    },
    {
     "data": {
      "image/png": "[encoded data removed]",
      "text/plain": [
       "<Figure size 432x288 with 1 Axes>"
      ]
     },
     "metadata": {
      "needs_background": "light"
     },
     "output_type": "display_data"
    }
   ],
   "source": [
    "x=np.linspace(1,64, 64)\n",
    "y=np.linspace(1,64, 64)\n",
    "X, Y = np.meshgrid(x, y)\n",
    "\n",
    "plt.contourf(Y, X, data)"
   ]
  },
  {
   "cell_type": "code",
   "execution_count": null,
   "metadata": {},
   "outputs": [],
   "source": []
  }
 ],
 "metadata": {
  "kernelspec": {
   "display_name": "Python (git3_warp_py36)",
   "language": "python",
   "name": "git3_warp_py36"
  },
  "language_info": {
   "codemirror_mode": {
    "name": "ipython",
    "version": 3
   },
   "file_extension": ".py",
   "mimetype": "text/x-python",
   "name": "python",
   "nbconvert_exporter": "python",
   "pygments_lexer": "ipython3",
   "version": "3.6.9"
  }
 },
 "nbformat": 4,
 "nbformat_minor": 2
}
